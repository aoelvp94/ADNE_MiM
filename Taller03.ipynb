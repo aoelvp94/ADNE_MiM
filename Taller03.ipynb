{
 "cells": [
  {
   "cell_type": "code",
   "execution_count": 1,
   "metadata": {},
   "outputs": [
    {
     "name": "stderr",
     "output_type": "stream",
     "text": [
      "c:\\programdata\\anaconda3\\lib\\site-packages\\gensim\\utils.py:1209: UserWarning: detected Windows; aliasing chunkize to chunkize_serial\n",
      "  warnings.warn(\"detected Windows; aliasing chunkize to chunkize_serial\")\n"
     ]
    }
   ],
   "source": [
    "import multiprocessing\n",
    "import gensim\n",
    "from gensim.models.word2vec import Word2Vec\n",
    "import nltk\n",
    "import pandas as pd\n",
    "import warnings\n",
    "warnings.filterwarnings('ignore')"
   ]
  },
  {
   "cell_type": "markdown",
   "metadata": {},
   "source": [
    "# Taller 03: Word2Vec"
   ]
  },
  {
   "cell_type": "markdown",
   "metadata": {},
   "source": [
    "## Alumnos: \n",
    "- Alvarez Muñoz Carolina\n",
    "- Escobar Aldo "
   ]
  },
  {
   "cell_type": "markdown",
   "metadata": {},
   "source": [
    "## Objetivo"
   ]
  },
  {
   "cell_type": "markdown",
   "metadata": {},
   "source": [
    "El objetivo de este taller es doble. En primer lugar que estudien por su cuenta qué es lo que hacen los diferentes parámetros de word2vec en gensim, y en segundo lugar que usen word2vec y experimenten un poco con sus resultados."
   ]
  },
  {
   "cell_type": "markdown",
   "metadata": {},
   "source": [
    "## Parte 1"
   ]
  },
  {
   "cell_type": "markdown",
   "metadata": {},
   "source": [
    "Lean la sección de word2vec del capítulo 6 de la última edición del libro de Jurafsky y Martin (https://web.stanford.edu/~jurafsky/slp3/6.pdf) y también busquén posts online referidos a word2vec (por ej. http://mccormickml.com/2016/04/19/word2vec-tutorial-the-skip-gram-model/, http://mccormickml.com/2017/01/11/word2vec-tutorial-part-2-negative-sampling/, https://www.kaggle.com/pierremegret/gensim-word2vec-tutorial). Una vez que hayan hecho esto respondan en no más de tres oraciones qué rol cumple cada uno de estos parámetros.\n",
    "\n",
    "* **min_count**: Es un integer que funciona como un valor \"techo\" con el fin de que el modelo ignore todas las palabras con una frecuencia inferior a este valor. Las palabras extremadamente infrecuentes generalmente no son importantes, por lo que es mejor deshacerse de ellas, a menos que el data set sea realmente pequeño, esto no afectaría al modelo.\n",
    "* **window**: Es un integer que determina cuántas palabras antes y después de una palabra dada se incluirían como palabras de contexto de la palabra en cuestión. Valores de ventana chicos dan resultados de naturaleza más sintáctica, en cambio valores más grandes dan resultados de naturaleza más semántica. Este último lleva más tiempo de training dado que el tamaño de la ventana es más grande.\n",
    "* **size**: Es un integer que representa la dimensionalidad del vector. Cuanto mayor sea el número de dimensiones que está utilizando, más información se puede almacenar. Los modelos vectoriales densos tienen una dimensionalidad de 50-300 y las dimensiones son más difíciles de interpretar.\n",
    "* **sample**: Es un float que representa el umbral que permite configurar las palabras con mayor frecuencia en los datos de entrenamiento para que sean muestreados aleatoriamente. El valor predeterminado es 1e-3, el rango útil es (0, 1e-5) (Ver: https://github.com/RaRe-Technologies/gensim/blob/727caf220ba2ebe253beaee73877afbd99b2db02/gensim/models/word2vec.py#L600)\n",
    "* **negative**: Es un integer que representa el número de ejemplos negativos (muestras de palabras que no son vecinas), por defecto su valor es 5 y los valores comunes son entre 3 a 10. Si su valor es 0, no se utiliza muestreo negativo. Esta idea de muestreo negativo está inspirada en este [paper](http://proceedings.mlr.press/v9/gutmann10a/gutmann10a.pdf) sobre estimación de contraste de ruido, por lo que estamos constrastando la señal real (ejemplos positivos de palabras vecinas) con ruido (palabras seleccionadas al azar que no son vecinas), lo que permite [una gran compensación de eficiencia computacional y estadística](https://aegis4048.github.io/optimize_computational_efficiency_of_skip-gram_with_negative_sampling).  La idea del muestreo negativo es que si el modelo puede distinguir entre los pares probables (positivos) frente a los pares improbables (negativos), se aprenderán buenos vectores de palabras.\n",
    "* **ns_exponent**: Es un float que representa el exponente utilizado para dar forma a la distribución de muestreo negativa. Un valor de 1.0 muestrea exactamente en proporción a las frecuencias, 0.0 muestrea todas las palabras por igual, mientras que un valor negativo muestrea más palabras de baja frecuencia que palabras de alta frecuencia. El popular valor predeterminado de 0.75 fue elegido por el paper original de Word2Vec. Algunas investigaciones sugieren que otras aplicaciones, como los sistemas de recomendación, podrían beneficiarse de otros valores."
   ]
  },
  {
   "cell_type": "markdown",
   "metadata": {},
   "source": [
    "## Parte 2"
   ]
  },
  {
   "cell_type": "markdown",
   "metadata": {},
   "source": [
    "En esta parte pueden seguir dos caminos:\n",
    "\n",
    "1. Bajar 50000 notas de La Nación elegidas al azar (puede reutilizar las ~11000 entregadas en clase).\n",
    "2. Utilizar un corpus de su elección (puede ser alguno que se encuentre disponible online o alguno que ustedes hayan creado -por ejemplo texto en foros de Rava Online, Artículos de Wikipedea-).\n",
    "\n",
    "Utilizando el corpus elegido, entrenen dos modelos de word2vec, uno con una ventana pequeña y otro con una ventana grande (qué es grande y qué es pequeña queda a su criterio). Una vez entrenado evalue si los vectores encontrados tienen sentido (si los mismos captan bien similitud entre palabras y si logran captar analogías).\n",
    "\n",
    "Para resolver este punto no deben entregar el código que **descarga** el corpus, si no que el código debe comenzar suponiendo que ya tienen el corpus a analizar en sus máquinas."
   ]
  },
  {
   "cell_type": "markdown",
   "metadata": {},
   "source": [
    "# RESOLUCIÓN"
   ]
  },
  {
   "cell_type": "markdown",
   "metadata": {},
   "source": [
    "## Lectura y preparación del corpus de Quora Questions.\n",
    "Preprocesamos el texto y filtramos los datos, quedandonos con aquellos que no están duplicados."
   ]
  },
  {
   "cell_type": "code",
   "execution_count": 2,
   "metadata": {},
   "outputs": [],
   "source": [
    "def read_questions(row,column_name):\n",
    "    return gensim.utils.simple_preprocess(str(row[column_name]).encode('utf-8'))"
   ]
  },
  {
   "cell_type": "code",
   "execution_count": 3,
   "metadata": {},
   "outputs": [
    {
     "data": {
      "text/html": [
       "<div>\n",
       "<style scoped>\n",
       "    .dataframe tbody tr th:only-of-type {\n",
       "        vertical-align: middle;\n",
       "    }\n",
       "\n",
       "    .dataframe tbody tr th {\n",
       "        vertical-align: top;\n",
       "    }\n",
       "\n",
       "    .dataframe thead th {\n",
       "        text-align: right;\n",
       "    }\n",
       "</style>\n",
       "<table border=\"1\" class=\"dataframe\">\n",
       "  <thead>\n",
       "    <tr style=\"text-align: right;\">\n",
       "      <th></th>\n",
       "      <th>id</th>\n",
       "      <th>qid1</th>\n",
       "      <th>qid2</th>\n",
       "      <th>question1</th>\n",
       "      <th>question2</th>\n",
       "      <th>is_duplicate</th>\n",
       "    </tr>\n",
       "  </thead>\n",
       "  <tbody>\n",
       "    <tr>\n",
       "      <th>0</th>\n",
       "      <td>0</td>\n",
       "      <td>1</td>\n",
       "      <td>2</td>\n",
       "      <td>What is the step by step guide to invest in sh...</td>\n",
       "      <td>What is the step by step guide to invest in sh...</td>\n",
       "      <td>0</td>\n",
       "    </tr>\n",
       "    <tr>\n",
       "      <th>1</th>\n",
       "      <td>1</td>\n",
       "      <td>3</td>\n",
       "      <td>4</td>\n",
       "      <td>What is the story of Kohinoor (Koh-i-Noor) Dia...</td>\n",
       "      <td>What would happen if the Indian government sto...</td>\n",
       "      <td>0</td>\n",
       "    </tr>\n",
       "    <tr>\n",
       "      <th>2</th>\n",
       "      <td>2</td>\n",
       "      <td>5</td>\n",
       "      <td>6</td>\n",
       "      <td>How can I increase the speed of my internet co...</td>\n",
       "      <td>How can Internet speed be increased by hacking...</td>\n",
       "      <td>0</td>\n",
       "    </tr>\n",
       "    <tr>\n",
       "      <th>3</th>\n",
       "      <td>3</td>\n",
       "      <td>7</td>\n",
       "      <td>8</td>\n",
       "      <td>Why am I mentally very lonely? How can I solve...</td>\n",
       "      <td>Find the remainder when [math]23^{24}[/math] i...</td>\n",
       "      <td>0</td>\n",
       "    </tr>\n",
       "    <tr>\n",
       "      <th>4</th>\n",
       "      <td>4</td>\n",
       "      <td>9</td>\n",
       "      <td>10</td>\n",
       "      <td>Which one dissolve in water quikly sugar, salt...</td>\n",
       "      <td>Which fish would survive in salt water?</td>\n",
       "      <td>0</td>\n",
       "    </tr>\n",
       "  </tbody>\n",
       "</table>\n",
       "</div>"
      ],
      "text/plain": [
       "   id  qid1  qid2                                          question1  \\\n",
       "0   0     1     2  What is the step by step guide to invest in sh...   \n",
       "1   1     3     4  What is the story of Kohinoor (Koh-i-Noor) Dia...   \n",
       "2   2     5     6  How can I increase the speed of my internet co...   \n",
       "3   3     7     8  Why am I mentally very lonely? How can I solve...   \n",
       "4   4     9    10  Which one dissolve in water quikly sugar, salt...   \n",
       "\n",
       "                                           question2  is_duplicate  \n",
       "0  What is the step by step guide to invest in sh...             0  \n",
       "1  What would happen if the Indian government sto...             0  \n",
       "2  How can Internet speed be increased by hacking...             0  \n",
       "3  Find the remainder when [math]23^{24}[/math] i...             0  \n",
       "4            Which fish would survive in salt water?             0  "
      ]
     },
     "execution_count": 3,
     "metadata": {},
     "output_type": "execute_result"
    }
   ],
   "source": [
    "df = pd.read_csv(\"./dataQuora.csv\")\n",
    "df.head()"
   ]
  },
  {
   "cell_type": "code",
   "execution_count": 4,
   "metadata": {},
   "outputs": [
    {
     "data": {
      "text/plain": [
       "404290"
      ]
     },
     "execution_count": 4,
     "metadata": {},
     "output_type": "execute_result"
    }
   ],
   "source": [
    "len(df)"
   ]
  },
  {
   "cell_type": "code",
   "execution_count": 5,
   "metadata": {},
   "outputs": [],
   "source": [
    "documents = []\n",
    "for index, row in df.iterrows():\n",
    "    documents.append(read_questions(row,\"question1\"))\n",
    "    if row[\"is_duplicate\"] == 0:\n",
    "        documents.append(read_questions(row,\"question2\"))"
   ]
  },
  {
   "cell_type": "code",
   "execution_count": 39,
   "metadata": {},
   "outputs": [
    {
     "data": {
      "text/plain": [
       "659317"
      ]
     },
     "execution_count": 39,
     "metadata": {},
     "output_type": "execute_result"
    }
   ],
   "source": [
    "len(documents)"
   ]
  },
  {
   "cell_type": "code",
   "execution_count": 6,
   "metadata": {},
   "outputs": [
    {
     "data": {
      "text/plain": [
       "['how',\n",
       " 'can',\n",
       " 'internet',\n",
       " 'speed',\n",
       " 'be',\n",
       " 'increased',\n",
       " 'by',\n",
       " 'hacking',\n",
       " 'through',\n",
       " 'dns']"
      ]
     },
     "execution_count": 6,
     "metadata": {},
     "output_type": "execute_result"
    }
   ],
   "source": [
    "documents[5]"
   ]
  },
  {
   "cell_type": "markdown",
   "metadata": {},
   "source": [
    "## Modelo 1 (WINDOW = 1)"
   ]
  },
  {
   "cell_type": "markdown",
   "metadata": {},
   "source": [
    "En este modelo intentaremos probar window=1. Efectivamente, como mencionamos en su definición, se ve claramente que el modelo logra \"aprender\" sintácticamente el corpus sobre el cual fue entrenado. \n",
    "\n",
    "En ambos modelos se entreno con sg=1 (Skip-Gram) ya que brindó mejores resultados que con sg=0.\n"
   ]
  },
  {
   "cell_type": "code",
   "execution_count": 7,
   "metadata": {},
   "outputs": [],
   "source": [
    "# Defino los parámetros del modelo\n",
    "model1 = gensim.models.Word2Vec(documents, size=100,\n",
    "                               window=1,\n",
    "                               min_count=1,\n",
    "                               workers=multiprocessing.cpu_count(), sg=1)"
   ]
  },
  {
   "cell_type": "code",
   "execution_count": 8,
   "metadata": {},
   "outputs": [
    {
     "name": "stdout",
     "output_type": "stream",
     "text": [
      "Model vocab size :  78611\n"
     ]
    }
   ],
   "source": [
    "print('Model vocab size : ', len(model1.wv.vocab))"
   ]
  },
  {
   "cell_type": "markdown",
   "metadata": {},
   "source": [
    "### Similitud entre 2 palabras\n",
    "Chequeamos que el primer modelo detecta alta similitud entre django y flask, entre scala y python y entre csv y json, al igual que el modelo 2. Pero para los pares (phonegap, mobile) el modelo no detecta mucha similitud, con respecto al modelo 2. Pasa al revés con el par (holden,spark)  "
   ]
  },
  {
   "cell_type": "code",
   "execution_count": 9,
   "metadata": {},
   "outputs": [
    {
     "data": {
      "text/plain": [
       "0.86805457"
      ]
     },
     "execution_count": 9,
     "metadata": {},
     "output_type": "execute_result"
    }
   ],
   "source": [
    "model1.wv.similarity('django', 'flask')"
   ]
  },
  {
   "cell_type": "code",
   "execution_count": 10,
   "metadata": {},
   "outputs": [
    {
     "data": {
      "text/plain": [
       "0.8533266"
      ]
     },
     "execution_count": 10,
     "metadata": {},
     "output_type": "execute_result"
    }
   ],
   "source": [
    "model1.wv.similarity('scala', 'python')"
   ]
  },
  {
   "cell_type": "code",
   "execution_count": 11,
   "metadata": {},
   "outputs": [
    {
     "data": {
      "text/plain": [
       "0.9063615"
      ]
     },
     "execution_count": 11,
     "metadata": {},
     "output_type": "execute_result"
    }
   ],
   "source": [
    "model1.wv.similarity(\"csv\", \"json\")"
   ]
  },
  {
   "cell_type": "code",
   "execution_count": 12,
   "metadata": {},
   "outputs": [
    {
     "data": {
      "text/plain": [
       "0.5908629"
      ]
     },
     "execution_count": 12,
     "metadata": {},
     "output_type": "execute_result"
    }
   ],
   "source": [
    "model1.wv.similarity(\"phonegap\", 'mobile')"
   ]
  },
  {
   "cell_type": "code",
   "execution_count": 13,
   "metadata": {},
   "outputs": [
    {
     "data": {
      "text/plain": [
       "0.4928444"
      ]
     },
     "execution_count": 13,
     "metadata": {},
     "output_type": "execute_result"
    }
   ],
   "source": [
    "model1.wv.similarity(\"holden\", \"spark\")"
   ]
  },
  {
   "cell_type": "markdown",
   "metadata": {},
   "source": [
    "### Palabras mas similares\n",
    "Con respecto al modelo 2, difiere mucho en udemy, testing y phonegap.\n",
    "- El modelo 2, para phonegap, identificó muy bien a xamarin como tecnología alternativa. Tambien sdk (termino muy relacionado  a mobile) y prototyping (uno de sus principales usos)\n",
    "- El modelo 2 para udemy capto mas plataformas educativas online que el modelo 1.\n",
    "- El modelo 2 para aws captura a Azure, en cambio el modelo 1 no.\n",
    "- El modelo 1 para testing capta mejor ciertos procesos, etapas y actividades de la Ingenieria del Software, en cambio el modelo 2 capta mejor ciertas tecnologías o terminologías relacionadas a la palabra 'testing'\n",
    "- Tanto el modelo 1 como el modelo 2 difieren en cuanto al listado de terminos similares a Argentina. En el modelo 2 los 2 primeros términos corresponden a paises que también son latinoamericanos.\n",
    "\n",
    "Con el resto de los términos, ambos modelos capturan más o menos lo mismo."
   ]
  },
  {
   "cell_type": "code",
   "execution_count": 14,
   "metadata": {},
   "outputs": [
    {
     "data": {
      "text/plain": [
       "[('csv', 0.856725811958313),\n",
       " ('xml', 0.8416116237640381),\n",
       " ('rar', 0.8413346409797668),\n",
       " ('psd', 0.8217413425445557),\n",
       " ('png', 0.8141417503356934),\n",
       " ('jpeg', 0.8069920539855957),\n",
       " ('mov', 0.8029743432998657),\n",
       " ('sketch', 0.7998624444007874),\n",
       " ('jpg', 0.7948867082595825),\n",
       " ('ost', 0.7894456386566162)]"
      ]
     },
     "execution_count": 14,
     "metadata": {},
     "output_type": "execute_result"
    }
   ],
   "source": [
    "model1.wv.most_similar(positive=['json', 'python'], negative=['java'])"
   ]
  },
  {
   "cell_type": "code",
   "execution_count": 15,
   "metadata": {},
   "outputs": [
    {
     "data": {
      "text/plain": [
       "[('slack', 0.7278505563735962),\n",
       " ('proxy', 0.7107540965080261),\n",
       " ('microphone', 0.7066342234611511),\n",
       " ('modem', 0.7057940363883972),\n",
       " ('ftp', 0.7034748792648315),\n",
       " ('applock', 0.6997796297073364),\n",
       " ('ssh', 0.6992812752723694),\n",
       " ('facetime', 0.6965632438659668),\n",
       " ('robinhood', 0.695682942867279),\n",
       " ('multiplayer', 0.6951815485954285)]"
      ]
     },
     "execution_count": 15,
     "metadata": {},
     "output_type": "execute_result"
    }
   ],
   "source": [
    "model1.wv.most_similar(positive=['vpn', 'python'], negative=['java'])"
   ]
  },
  {
   "cell_type": "code",
   "execution_count": 63,
   "metadata": {},
   "outputs": [
    {
     "data": {
      "text/plain": [
       "[('salesforce', 0.8383669853210449),\n",
       " ('etl', 0.819669246673584),\n",
       " ('cad', 0.8155735731124878),\n",
       " ('ec', 0.8135716319084167),\n",
       " ('heroku', 0.8088165521621704),\n",
       " ('evernote', 0.8062582612037659),\n",
       " ('crm', 0.8029599189758301),\n",
       " ('firebase', 0.7968751788139343),\n",
       " ('documentation', 0.792850136756897),\n",
       " ('tibco', 0.7865740060806274)]"
      ]
     },
     "execution_count": 63,
     "metadata": {},
     "output_type": "execute_result"
    }
   ],
   "source": [
    "model1.most_similar('aws')"
   ]
  },
  {
   "cell_type": "code",
   "execution_count": 62,
   "metadata": {},
   "outputs": [
    {
     "data": {
      "text/plain": [
       "[('fb', 0.8690828084945679),\n",
       " ('twitter', 0.8590004444122314),\n",
       " ('linkedin', 0.8329737186431885),\n",
       " ('whatsapp', 0.8320820927619934),\n",
       " ('viber', 0.8299320936203003),\n",
       " ('tumblr', 0.8278658986091614),\n",
       " ('telegram', 0.8209035992622375),\n",
       " ('wechat', 0.8184382915496826),\n",
       " ('pinterest', 0.8146739602088928),\n",
       " ('instagram', 0.8110525608062744)]"
      ]
     },
     "execution_count": 62,
     "metadata": {},
     "output_type": "execute_result"
    }
   ],
   "source": [
    "model1.most_similar('facebook')"
   ]
  },
  {
   "cell_type": "code",
   "execution_count": 17,
   "metadata": {},
   "outputs": [
    {
     "data": {
      "text/plain": [
       "[('coursera', 0.8572806119918823),\n",
       " ('ebooks', 0.8418262004852295),\n",
       " ('edx', 0.8337137699127197),\n",
       " ('nptel', 0.8174368143081665),\n",
       " ('lynda', 0.79087233543396),\n",
       " ('receipts', 0.7748346924781799),\n",
       " ('vimeo', 0.7724509239196777),\n",
       " ('matrimony', 0.7713868021965027),\n",
       " ('sharepoint', 0.7655866742134094),\n",
       " ('audiobook', 0.7635728120803833)]"
      ]
     },
     "execution_count": 17,
     "metadata": {},
     "output_type": "execute_result"
    }
   ],
   "source": [
    "model1.wv.most_similar('udemy')"
   ]
  },
  {
   "cell_type": "code",
   "execution_count": 18,
   "metadata": {},
   "outputs": [
    {
     "data": {
      "text/plain": [
       "[('tester', 0.7317851781845093),\n",
       " ('prototyping', 0.714449405670166),\n",
       " ('development', 0.7115980982780457),\n",
       " ('hana', 0.7033167481422424),\n",
       " ('dba', 0.6967520713806152),\n",
       " ('deployment', 0.6956557631492615),\n",
       " ('erp', 0.6941887736320496),\n",
       " ('documentation', 0.6931678652763367),\n",
       " ('assurance', 0.6930036544799805),\n",
       " ('abap', 0.6901017427444458)]"
      ]
     },
     "execution_count": 18,
     "metadata": {},
     "output_type": "execute_result"
    }
   ],
   "source": [
    "model1.wv.most_similar('testing')"
   ]
  },
  {
   "cell_type": "code",
   "execution_count": 19,
   "metadata": {},
   "outputs": [
    {
     "data": {
      "text/plain": [
       "[('wix', 0.8774884939193726),\n",
       " ('netbeans', 0.8726273775100708),\n",
       " ('qwote', 0.8706647753715515),\n",
       " ('prestashop', 0.87028568983078),\n",
       " ('macros', 0.8671637177467346),\n",
       " ('meteorjs', 0.8665980696678162),\n",
       " ('codeblocks', 0.8653455972671509),\n",
       " ('squarespace', 0.864075243473053),\n",
       " ('integrating', 0.8634461164474487),\n",
       " ('fedora', 0.8633407354354858)]"
      ]
     },
     "execution_count": 19,
     "metadata": {},
     "output_type": "execute_result"
    }
   ],
   "source": [
    "model1.wv.most_similar('phonegap')"
   ]
  },
  {
   "cell_type": "code",
   "execution_count": 44,
   "metadata": {},
   "outputs": [
    {
     "data": {
      "text/plain": [
       "[('belgium', 0.8738886117935181),\n",
       " ('cuba', 0.8719927072525024),\n",
       " ('bulgaria', 0.8643927574157715),\n",
       " ('colombia', 0.8631213903427124),\n",
       " ('uruguay', 0.8569871187210083),\n",
       " ('belize', 0.8569393754005432),\n",
       " ('chile', 0.8470370173454285),\n",
       " ('albania', 0.8469589352607727),\n",
       " ('sudan', 0.8456088304519653),\n",
       " ('austria', 0.844763994216919)]"
      ]
     },
     "execution_count": 44,
     "metadata": {},
     "output_type": "execute_result"
    }
   ],
   "source": [
    "model1.wv.most_similar('argentina')"
   ]
  },
  {
   "cell_type": "markdown",
   "metadata": {},
   "source": [
    "### Palabra que no matchea en la lista\n",
    "El modelo 1 detecta bien, en los 3 primeros casos, al igual que el modelo 2, aquellas palabras que no \"matchean con el resto\".\n",
    "Para el caso de etl, aws y azure, lo hace distinto al modelo 2"
   ]
  },
  {
   "cell_type": "code",
   "execution_count": 20,
   "metadata": {},
   "outputs": [
    {
     "data": {
      "text/plain": [
       "'sql'"
      ]
     },
     "execution_count": 20,
     "metadata": {},
     "output_type": "execute_result"
    }
   ],
   "source": [
    "model1.wv.doesnt_match(['python', 'sql', 'javascript', 'java'])"
   ]
  },
  {
   "cell_type": "code",
   "execution_count": 21,
   "metadata": {},
   "outputs": [
    {
     "data": {
      "text/plain": [
       "'vpn'"
      ]
     },
     "execution_count": 21,
     "metadata": {},
     "output_type": "execute_result"
    }
   ],
   "source": [
    "model1.wv.doesnt_match(['python', 'vpn', 'javascript', 'java'])"
   ]
  },
  {
   "cell_type": "code",
   "execution_count": 22,
   "metadata": {},
   "outputs": [
    {
     "data": {
      "text/plain": [
       "'coding'"
      ]
     },
     "execution_count": 22,
     "metadata": {},
     "output_type": "execute_result"
    }
   ],
   "source": [
    "model1.wv.doesnt_match(['beer', 'coffee', 'coding'])"
   ]
  },
  {
   "cell_type": "code",
   "execution_count": 55,
   "metadata": {},
   "outputs": [
    {
     "data": {
      "text/plain": [
       "'azure'"
      ]
     },
     "execution_count": 55,
     "metadata": {},
     "output_type": "execute_result"
    }
   ],
   "source": [
    "model1.wv.doesnt_match(['etl', 'aws', 'azure'])"
   ]
  },
  {
   "cell_type": "markdown",
   "metadata": {},
   "source": [
    "## SEGUNDO MODELO: (WINDOW = 4)"
   ]
  },
  {
   "cell_type": "code",
   "execution_count": 23,
   "metadata": {},
   "outputs": [],
   "source": [
    "# Defino los parámetros del modelo\n",
    "model2 = gensim.models.Word2Vec(documents, size=100,\n",
    "                               window=4,\n",
    "                               min_count=1,\n",
    "                               workers=multiprocessing.cpu_count(), sg=1)"
   ]
  },
  {
   "cell_type": "code",
   "execution_count": 24,
   "metadata": {},
   "outputs": [
    {
     "name": "stdout",
     "output_type": "stream",
     "text": [
      "Model vocab size :  78611\n"
     ]
    }
   ],
   "source": [
    "print('Model vocab size : ', len(model2.wv.vocab))"
   ]
  },
  {
   "cell_type": "markdown",
   "metadata": {},
   "source": [
    "### Similitud entre 2 palabras"
   ]
  },
  {
   "cell_type": "code",
   "execution_count": 25,
   "metadata": {},
   "outputs": [
    {
     "data": {
      "text/plain": [
       "0.86212575"
      ]
     },
     "execution_count": 25,
     "metadata": {},
     "output_type": "execute_result"
    }
   ],
   "source": [
    "model2.wv.similarity('django', 'flask')"
   ]
  },
  {
   "cell_type": "code",
   "execution_count": 26,
   "metadata": {},
   "outputs": [
    {
     "data": {
      "text/plain": [
       "0.867182"
      ]
     },
     "execution_count": 26,
     "metadata": {},
     "output_type": "execute_result"
    }
   ],
   "source": [
    "model2.wv.similarity('scala', 'python')"
   ]
  },
  {
   "cell_type": "code",
   "execution_count": 27,
   "metadata": {},
   "outputs": [
    {
     "data": {
      "text/plain": [
       "0.8794539"
      ]
     },
     "execution_count": 27,
     "metadata": {},
     "output_type": "execute_result"
    }
   ],
   "source": [
    "model2.wv.similarity(\"csv\", \"json\")"
   ]
  },
  {
   "cell_type": "code",
   "execution_count": 28,
   "metadata": {},
   "outputs": [
    {
     "data": {
      "text/plain": [
       "0.6958955"
      ]
     },
     "execution_count": 28,
     "metadata": {},
     "output_type": "execute_result"
    }
   ],
   "source": [
    "model2.wv.similarity(\"phonegap\", 'mobile')"
   ]
  },
  {
   "cell_type": "code",
   "execution_count": 29,
   "metadata": {},
   "outputs": [
    {
     "data": {
      "text/plain": [
       "0.23774163"
      ]
     },
     "execution_count": 29,
     "metadata": {},
     "output_type": "execute_result"
    }
   ],
   "source": [
    "model2.wv.similarity(\"holden\", \"spark\")"
   ]
  },
  {
   "cell_type": "markdown",
   "metadata": {},
   "source": [
    "### Palabras mas similares"
   ]
  },
  {
   "cell_type": "code",
   "execution_count": 30,
   "metadata": {},
   "outputs": [
    {
     "data": {
      "text/plain": [
       "[('xml', 0.8519490957260132),\n",
       " ('csv', 0.841950535774231),\n",
       " ('jpg', 0.8392014503479004),\n",
       " ('txt', 0.8230435848236084),\n",
       " ('hdfs', 0.8211490511894226),\n",
       " ('swf', 0.8166185617446899),\n",
       " ('psd', 0.8165850043296814),\n",
       " ('docx', 0.8154696822166443),\n",
       " ('png', 0.806637167930603),\n",
       " ('render', 0.8055713176727295)]"
      ]
     },
     "execution_count": 30,
     "metadata": {},
     "output_type": "execute_result"
    }
   ],
   "source": [
    "model2.wv.most_similar(positive=['json', 'python'], negative=['java'])"
   ]
  },
  {
   "cell_type": "code",
   "execution_count": 31,
   "metadata": {},
   "outputs": [
    {
     "data": {
      "text/plain": [
       "[('tor', 0.741836667060852),\n",
       " ('proxy', 0.7233006358146667),\n",
       " ('browser', 0.7063598036766052),\n",
       " ('blackberry', 0.6910176277160645),\n",
       " ('facetime', 0.688700795173645),\n",
       " ('ssh', 0.6809120178222656),\n",
       " ('spyware', 0.6794326305389404),\n",
       " ('comcast', 0.67850661277771),\n",
       " ('kodi', 0.6775163412094116),\n",
       " ('vizio', 0.6764388084411621)]"
      ]
     },
     "execution_count": 31,
     "metadata": {},
     "output_type": "execute_result"
    }
   ],
   "source": [
    "model2.wv.most_similar(positive=['vpn', 'python'], negative=['java'])"
   ]
  },
  {
   "cell_type": "code",
   "execution_count": 61,
   "metadata": {},
   "outputs": [
    {
     "data": {
      "text/plain": [
       "[('azure', 0.8567851781845093),\n",
       " ('firebase', 0.8309110403060913),\n",
       " ('qtp', 0.829558253288269),\n",
       " ('cloudera', 0.82160484790802),\n",
       " ('tableau', 0.8213474154472351),\n",
       " ('salesforce', 0.8168648481369019),\n",
       " ('wpf', 0.8149662613868713),\n",
       " ('etl', 0.8145946264266968),\n",
       " ('heroku', 0.8139879703521729),\n",
       " ('mongodb', 0.8123369216918945)]"
      ]
     },
     "execution_count": 61,
     "metadata": {},
     "output_type": "execute_result"
    }
   ],
   "source": [
    "model2.most_similar('aws')"
   ]
  },
  {
   "cell_type": "code",
   "execution_count": 60,
   "metadata": {},
   "outputs": [
    {
     "data": {
      "text/plain": [
       "[('twitter', 0.8746172785758972),\n",
       " ('fb', 0.8691712617874146),\n",
       " ('linkedin', 0.8483709096908569),\n",
       " ('tumblr', 0.8357803821563721),\n",
       " ('whatsapp', 0.8323224782943726),\n",
       " ('pinterest', 0.8207857608795166),\n",
       " ('messenger', 0.8183181285858154),\n",
       " ('kik', 0.8156495094299316),\n",
       " ('telegram', 0.8020131587982178),\n",
       " ('instagram', 0.7952909469604492)]"
      ]
     },
     "execution_count": 60,
     "metadata": {},
     "output_type": "execute_result"
    }
   ],
   "source": [
    "model2.most_similar('facebook')"
   ]
  },
  {
   "cell_type": "code",
   "execution_count": 33,
   "metadata": {},
   "outputs": [
    {
     "data": {
      "text/plain": [
       "[('lynda', 0.8603887557983398),\n",
       " ('ebooks', 0.8042945861816406),\n",
       " ('opencourseware', 0.802211344242096),\n",
       " ('edx', 0.7960515022277832),\n",
       " ('explainer', 0.787355899810791),\n",
       " ('marketers', 0.7821062803268433),\n",
       " ('coursera', 0.780627965927124),\n",
       " ('advertisers', 0.7779604196548462),\n",
       " ('vimeo', 0.7769426107406616),\n",
       " ('pornhub', 0.7749009132385254)]"
      ]
     },
     "execution_count": 33,
     "metadata": {},
     "output_type": "execute_result"
    }
   ],
   "source": [
    "model2.wv.most_similar('udemy')"
   ]
  },
  {
   "cell_type": "code",
   "execution_count": 34,
   "metadata": {},
   "outputs": [
    {
     "data": {
      "text/plain": [
       "[('automation', 0.7882766723632812),\n",
       " ('selenium', 0.7638168334960938),\n",
       " ('etl', 0.7507907152175903),\n",
       " ('hadoop', 0.7422379851341248),\n",
       " ('methodologies', 0.729033887386322),\n",
       " ('qtp', 0.7264882326126099),\n",
       " ('dba', 0.7260955572128296),\n",
       " ('erp', 0.7231667637825012),\n",
       " ('pega', 0.7198524475097656),\n",
       " ('usability', 0.7187020182609558)]"
      ]
     },
     "execution_count": 34,
     "metadata": {},
     "output_type": "execute_result"
    }
   ],
   "source": [
    "model2.wv.most_similar('testing')"
   ]
  },
  {
   "cell_type": "code",
   "execution_count": 35,
   "metadata": {},
   "outputs": [
    {
     "data": {
      "text/plain": [
       "[('sandbox', 0.8888113498687744),\n",
       " ('ides', 0.8842485547065735),\n",
       " ('opensource', 0.8829988241195679),\n",
       " ('xamarin', 0.8826943635940552),\n",
       " ('prototyping', 0.8824082612991333),\n",
       " ('sdk', 0.8786871433258057),\n",
       " ('golang', 0.878308892250061),\n",
       " ('netbeans', 0.8751993179321289),\n",
       " ('sqlite', 0.8664655685424805),\n",
       " ('drupal', 0.8626308441162109)]"
      ]
     },
     "execution_count": 35,
     "metadata": {},
     "output_type": "execute_result"
    }
   ],
   "source": [
    "model2.wv.most_similar('phonegap')"
   ]
  },
  {
   "cell_type": "code",
   "execution_count": 43,
   "metadata": {},
   "outputs": [
    {
     "data": {
      "text/plain": [
       "[('uruguay', 0.8431172370910645),\n",
       " ('colombia', 0.8374465107917786),\n",
       " ('italy', 0.8190811276435852),\n",
       " ('yemen', 0.8117990493774414),\n",
       " ('bulgaria', 0.8082664608955383),\n",
       " ('austria', 0.8056122064590454),\n",
       " ('denmark', 0.8030199408531189),\n",
       " ('chile', 0.801636815071106),\n",
       " ('japan', 0.7993309497833252),\n",
       " ('france', 0.7982182502746582)]"
      ]
     },
     "execution_count": 43,
     "metadata": {},
     "output_type": "execute_result"
    }
   ],
   "source": [
    "model2.wv.most_similar('argentina')"
   ]
  },
  {
   "cell_type": "markdown",
   "metadata": {},
   "source": [
    "### Palabra que no matchea en la lista"
   ]
  },
  {
   "cell_type": "code",
   "execution_count": 36,
   "metadata": {},
   "outputs": [
    {
     "data": {
      "text/plain": [
       "'sql'"
      ]
     },
     "execution_count": 36,
     "metadata": {},
     "output_type": "execute_result"
    }
   ],
   "source": [
    "model2.wv.doesnt_match(['python', 'sql', 'javascript', 'java'])"
   ]
  },
  {
   "cell_type": "code",
   "execution_count": 37,
   "metadata": {},
   "outputs": [
    {
     "data": {
      "text/plain": [
       "'vpn'"
      ]
     },
     "execution_count": 37,
     "metadata": {},
     "output_type": "execute_result"
    }
   ],
   "source": [
    "model2.wv.doesnt_match(['python', 'vpn', 'javascript', 'java'])"
   ]
  },
  {
   "cell_type": "code",
   "execution_count": 38,
   "metadata": {},
   "outputs": [
    {
     "data": {
      "text/plain": [
       "'coding'"
      ]
     },
     "execution_count": 38,
     "metadata": {},
     "output_type": "execute_result"
    }
   ],
   "source": [
    "model2.wv.doesnt_match(['beer', 'coffee', 'coding'])"
   ]
  },
  {
   "cell_type": "code",
   "execution_count": 54,
   "metadata": {},
   "outputs": [
    {
     "data": {
      "text/plain": [
       "'etl'"
      ]
     },
     "execution_count": 54,
     "metadata": {},
     "output_type": "execute_result"
    }
   ],
   "source": [
    "model2.wv.doesnt_match(['etl', 'aws', 'azure'])"
   ]
  },
  {
   "cell_type": "markdown",
   "metadata": {},
   "source": [
    "## Modalidad de entrega"
   ]
  },
  {
   "cell_type": "markdown",
   "metadata": {},
   "source": [
    "El taller puede ser resuelto en grupos de a lo sumo 3 integrantes.\n",
    "\n",
    "La resolución consiste en escribir una notebook que resuelva lo que la consigna pide.\n",
    "\n",
    "Se evaluará que el código entregado sea claro y legible.\n",
    "\n",
    "Si el código no corre, el taller no estará aprobado y deberá ser reentregado.\n",
    "\n",
    "La entrega debe hacerse a rgalvez@utdt.edu."
   ]
  }
 ],
 "metadata": {
  "kernelspec": {
   "display_name": "Python 3",
   "language": "python",
   "name": "python3"
  },
  "language_info": {
   "codemirror_mode": {
    "name": "ipython",
    "version": 3
   },
   "file_extension": ".py",
   "mimetype": "text/x-python",
   "name": "python",
   "nbconvert_exporter": "python",
   "pygments_lexer": "ipython3",
   "version": "3.6.4"
  }
 },
 "nbformat": 4,
 "nbformat_minor": 2
}
