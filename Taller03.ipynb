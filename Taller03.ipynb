{
 "cells": [
  {
   "cell_type": "code",
   "execution_count": 1,
   "metadata": {},
   "outputs": [
    {
     "name": "stderr",
     "output_type": "stream",
     "text": [
      "c:\\programdata\\anaconda3\\lib\\site-packages\\gensim\\utils.py:1209: UserWarning: detected Windows; aliasing chunkize to chunkize_serial\n",
      "  warnings.warn(\"detected Windows; aliasing chunkize to chunkize_serial\")\n"
     ]
    }
   ],
   "source": [
    "import multiprocessing\n",
    "import gensim\n",
    "from gensim.models.word2vec import Word2Vec\n",
    "import nltk\n",
    "import pandas as pd\n",
    "import warnings\n",
    "warnings.filterwarnings('ignore')"
   ]
  },
  {
   "cell_type": "markdown",
   "metadata": {},
   "source": [
    "# Taller 03: Análisis de Sentimiento de Reviews de Guía Oleo"
   ]
  },
  {
   "cell_type": "markdown",
   "metadata": {},
   "source": [
    "## Alumnos: \n",
    "- Alvarez Muñoz Carolina\n",
    "- Escobar Aldo "
   ]
  },
  {
   "cell_type": "markdown",
   "metadata": {},
   "source": [
    "## Objetivo"
   ]
  },
  {
   "cell_type": "markdown",
   "metadata": {},
   "source": [
    "El objetivo de este taller es doble. En primer lugar que estudien por su cuenta qué es lo que hacen los diferentes parámetros de word2vec en gensim, y en segundo lugar que usen word2vec y experimenten un poco con sus resultados."
   ]
  },
  {
   "cell_type": "markdown",
   "metadata": {},
   "source": [
    "## Parte 1"
   ]
  },
  {
   "cell_type": "markdown",
   "metadata": {},
   "source": [
    "Lean la sección de word2vec del capítulo 6 de la última edición del libro de Jurafsky y Martin (https://web.stanford.edu/~jurafsky/slp3/6.pdf) y también busquén posts online referidos a word2vec (por ej. http://mccormickml.com/2016/04/19/word2vec-tutorial-the-skip-gram-model/, http://mccormickml.com/2017/01/11/word2vec-tutorial-part-2-negative-sampling/, https://www.kaggle.com/pierremegret/gensim-word2vec-tutorial). Una vez que hayan hecho esto respondan en no más de tres oraciones qué rol cumple cada uno de estos parámetros.\n",
    "\n",
    "* **min_count**: Es un integer que funciona como un valor \"techo\" con el fin de que el modelo ignore todas las palabras con una frecuencia inferior a este valor. Las palabras extremadamente infrecuentes generalmente no son importantes, por lo que es mejor deshacerse de ellas, a menos que el data set sea realmente pequeño, esto no afectaría al modelo.\n",
    "* **window**: Es un integer que determina cuántas palabras antes y después de un String dado se incluirían como palabras de contexto del String en cuestión. Valores de ventana chicos dan resultados de naturaleza más sintáctica, en cambio valores más grandes dan resultados de naturaleza más semántica. Este último lleva más tiempo de training dado que el tamaño de la ventana es más grande.\n",
    "* **size**: Es un integer que representa la dimensionalidad del vector. Cuanto mayor sea el número de dimensiones que está utilizando, más información se puede almacenar. Los modelos vectoriales densos tienen una dimensionalidad de 50-300 y las dimensiones son más difíciles de interpretar.\n",
    "* **sample**: Es un float que representa el umbral que permite configurar las palabras con mayor frecuencia en los datos de entrenamiento para que sean muestreados aleatoriamente. El valor predeterminado es 1e-3, el rango útil es (0, 1e-5) (Ver: https://github.com/RaRe-Technologies/gensim/blob/727caf220ba2ebe253beaee73877afbd99b2db02/gensim/models/word2vec.py#L600)\n",
    "* **negative**: Es un integer que representa el número de ejemplos negativos (muestras de palabras que no son vecinas), por defecto su valor es 5 y los valores comunes son entre 3 a 10. Si su valor es 0, no se utiliza muestreo negativo. Esta idea de muestreo negativo está inspirada en este [paper](http://proceedings.mlr.press/v9/gutmann10a/gutmann10a.pdf) sobre estimación de contraste de ruido, por lo que estamos constrastando la señal real (ejemplos positivos de palabras vecinas) con ruido (palabras seleccionadas al azar que no son vecinas), lo que permite [una gran compensación de eficiencia computacional y estadística](https://aegis4048.github.io/optimize_computational_efficiency_of_skip-gram_with_negative_sampling).  La idea del muestreo negativo es que si el modelo puede distinguir entre los pares probables (positivos) frente a los pares improbables (negativos), se aprenderán buenos vectores de palabras.\n",
    "* **ns_exponent**: Es un float que representa el exponente utilizado para dar forma a la distribución de muestreo negativa. Un valor de 1.0 muestrea exactamente en proporción a las frecuencias, 0.0 muestrea todas las palabras por igual, mientras que un valor negativo muestrea más palabras de baja frecuencia que palabras de alta frecuencia. El popular valor predeterminado de 0.75 fue elegido por el paper original de Word2Vec. Algunas investigaciones sugieren que otras aplicaciones, como los sistemas de recomendación, podrían beneficiarse de otros valores."
   ]
  },
  {
   "cell_type": "markdown",
   "metadata": {},
   "source": [
    "## Parte 2"
   ]
  },
  {
   "cell_type": "markdown",
   "metadata": {},
   "source": [
    "En esta parte pueden seguir dos caminos:\n",
    "\n",
    "1. Bajar 50000 notas de La Nación elegidas al azar (puede reutilizar las ~11000 entregadas en clase).\n",
    "2. Utilizar un corpus de su elección (puede ser alguno que se encuentre disponible online o alguno que ustedes hayan creado -por ejemplo texto en foros de Rava Online, Artículos de Wikipedea-).\n",
    "\n",
    "Utilizando el corpus elegido, entrenen dos modelos de word2vec, uno con una ventana pequeña y otro con una ventana grande (qué es grande y qué es pequeña queda a su criterio). Una vez entrenado evalue si los vectores encontrados tienen sentido (si los mismos captan bien similitud entre palabras y si logran captar analogías).\n",
    "\n",
    "Para resolver este punto no deben entregar el código que **descarga** el corpus, si no que el código debe comenzar suponiendo que ya tienen el corpus a analizar en sus máquinas."
   ]
  },
  {
   "cell_type": "markdown",
   "metadata": {},
   "source": [
    "# RESOLUCIÓN"
   ]
  },
  {
   "cell_type": "markdown",
   "metadata": {},
   "source": [
    "## Lectura y preparación del corpus de Quora Questions.\n",
    "Preprocesamos el texto y filtramos los datos, quedandonos con aquellos que no están duplicados."
   ]
  },
  {
   "cell_type": "code",
   "execution_count": 2,
   "metadata": {},
   "outputs": [],
   "source": [
    "def read_questions(row,column_name):\n",
    "    return gensim.utils.simple_preprocess(str(row[column_name]).encode('utf-8'))"
   ]
  },
  {
   "cell_type": "code",
   "execution_count": 3,
   "metadata": {},
   "outputs": [
    {
     "data": {
      "text/html": [
       "<div>\n",
       "<style scoped>\n",
       "    .dataframe tbody tr th:only-of-type {\n",
       "        vertical-align: middle;\n",
       "    }\n",
       "\n",
       "    .dataframe tbody tr th {\n",
       "        vertical-align: top;\n",
       "    }\n",
       "\n",
       "    .dataframe thead th {\n",
       "        text-align: right;\n",
       "    }\n",
       "</style>\n",
       "<table border=\"1\" class=\"dataframe\">\n",
       "  <thead>\n",
       "    <tr style=\"text-align: right;\">\n",
       "      <th></th>\n",
       "      <th>id</th>\n",
       "      <th>qid1</th>\n",
       "      <th>qid2</th>\n",
       "      <th>question1</th>\n",
       "      <th>question2</th>\n",
       "      <th>is_duplicate</th>\n",
       "    </tr>\n",
       "  </thead>\n",
       "  <tbody>\n",
       "    <tr>\n",
       "      <th>0</th>\n",
       "      <td>0</td>\n",
       "      <td>1</td>\n",
       "      <td>2</td>\n",
       "      <td>What is the step by step guide to invest in sh...</td>\n",
       "      <td>What is the step by step guide to invest in sh...</td>\n",
       "      <td>0</td>\n",
       "    </tr>\n",
       "    <tr>\n",
       "      <th>1</th>\n",
       "      <td>1</td>\n",
       "      <td>3</td>\n",
       "      <td>4</td>\n",
       "      <td>What is the story of Kohinoor (Koh-i-Noor) Dia...</td>\n",
       "      <td>What would happen if the Indian government sto...</td>\n",
       "      <td>0</td>\n",
       "    </tr>\n",
       "    <tr>\n",
       "      <th>2</th>\n",
       "      <td>2</td>\n",
       "      <td>5</td>\n",
       "      <td>6</td>\n",
       "      <td>How can I increase the speed of my internet co...</td>\n",
       "      <td>How can Internet speed be increased by hacking...</td>\n",
       "      <td>0</td>\n",
       "    </tr>\n",
       "    <tr>\n",
       "      <th>3</th>\n",
       "      <td>3</td>\n",
       "      <td>7</td>\n",
       "      <td>8</td>\n",
       "      <td>Why am I mentally very lonely? How can I solve...</td>\n",
       "      <td>Find the remainder when [math]23^{24}[/math] i...</td>\n",
       "      <td>0</td>\n",
       "    </tr>\n",
       "    <tr>\n",
       "      <th>4</th>\n",
       "      <td>4</td>\n",
       "      <td>9</td>\n",
       "      <td>10</td>\n",
       "      <td>Which one dissolve in water quikly sugar, salt...</td>\n",
       "      <td>Which fish would survive in salt water?</td>\n",
       "      <td>0</td>\n",
       "    </tr>\n",
       "  </tbody>\n",
       "</table>\n",
       "</div>"
      ],
      "text/plain": [
       "   id  qid1  qid2                                          question1  \\\n",
       "0   0     1     2  What is the step by step guide to invest in sh...   \n",
       "1   1     3     4  What is the story of Kohinoor (Koh-i-Noor) Dia...   \n",
       "2   2     5     6  How can I increase the speed of my internet co...   \n",
       "3   3     7     8  Why am I mentally very lonely? How can I solve...   \n",
       "4   4     9    10  Which one dissolve in water quikly sugar, salt...   \n",
       "\n",
       "                                           question2  is_duplicate  \n",
       "0  What is the step by step guide to invest in sh...             0  \n",
       "1  What would happen if the Indian government sto...             0  \n",
       "2  How can Internet speed be increased by hacking...             0  \n",
       "3  Find the remainder when [math]23^{24}[/math] i...             0  \n",
       "4            Which fish would survive in salt water?             0  "
      ]
     },
     "execution_count": 3,
     "metadata": {},
     "output_type": "execute_result"
    }
   ],
   "source": [
    "df = pd.read_csv(\"./dataQuora.csv\")\n",
    "df.head()"
   ]
  },
  {
   "cell_type": "code",
   "execution_count": 4,
   "metadata": {},
   "outputs": [
    {
     "data": {
      "text/plain": [
       "404290"
      ]
     },
     "execution_count": 4,
     "metadata": {},
     "output_type": "execute_result"
    }
   ],
   "source": [
    "len(df)"
   ]
  },
  {
   "cell_type": "code",
   "execution_count": null,
   "metadata": {},
   "outputs": [],
   "source": [
    "documents = []\n",
    "for index, row in df.iterrows():\n",
    "    documents.append(read_questions(row,\"question1\"))\n",
    "    if row[\"is_duplicate\"] == 0:\n",
    "        documents.append(read_questions(row,\"question2\"))"
   ]
  },
  {
   "cell_type": "code",
   "execution_count": null,
   "metadata": {},
   "outputs": [],
   "source": [
    "documents[5]"
   ]
  },
  {
   "cell_type": "markdown",
   "metadata": {},
   "source": [
    "## Modelo 1 (WINDOW = 1)"
   ]
  },
  {
   "cell_type": "markdown",
   "metadata": {},
   "source": [
    "En este modelo intentaremos probar window=1. Efectivamente, como mencionamos en su definición, se ve claramente que el modelo logra \"aprender\" sintácticamente el corpus sobre el cual fue entrenado. \n",
    "\n",
    "En ambos modelos se entreno con sg=1 (Skip-Gram) ya que brindó mejores resultados que con sg=0.\n"
   ]
  },
  {
   "cell_type": "code",
   "execution_count": null,
   "metadata": {},
   "outputs": [],
   "source": [
    "# Defino los parámetros del modelo\n",
    "model1 = gensim.models.Word2Vec(documents, size=100,\n",
    "                               window=1,\n",
    "                               min_count=1,\n",
    "                               workers=multiprocessing.cpu_count(), sg=1)"
   ]
  },
  {
   "cell_type": "code",
   "execution_count": null,
   "metadata": {},
   "outputs": [],
   "source": [
    "print('Model vocab size : ', len(model1.wv.vocab))"
   ]
  },
  {
   "cell_type": "markdown",
   "metadata": {},
   "source": [
    "### Similitud entre 2 palabras\n",
    "Chequeamos que el primer modelo detecta alta similitud entre django y flask, entre scala y python y entre csv y json, al igual que el modelo 2. Pero para los pares (phonegap, mobile) el modelo no detecta mucha similitud, con respecto al modelo 2. Pasa al revés con el par (holden,spark)  "
   ]
  },
  {
   "cell_type": "code",
   "execution_count": null,
   "metadata": {},
   "outputs": [],
   "source": [
    "model1.wv.similarity('django', 'flask')"
   ]
  },
  {
   "cell_type": "code",
   "execution_count": null,
   "metadata": {},
   "outputs": [],
   "source": [
    "model1.wv.similarity('scala', 'python')"
   ]
  },
  {
   "cell_type": "code",
   "execution_count": null,
   "metadata": {},
   "outputs": [],
   "source": [
    "model1.wv.similarity(\"csv\", \"json\")"
   ]
  },
  {
   "cell_type": "code",
   "execution_count": null,
   "metadata": {},
   "outputs": [],
   "source": [
    "model1.wv.similarity(\"phonegap\", 'mobile')"
   ]
  },
  {
   "cell_type": "code",
   "execution_count": null,
   "metadata": {},
   "outputs": [],
   "source": [
    "model1.wv.similarity(\"holden\", \"spark\")"
   ]
  },
  {
   "cell_type": "markdown",
   "metadata": {},
   "source": [
    "### Palabras mas similares\n",
    "Con respecto al modelo 2, difiere mucho en udemy, testing y phonegap.\n",
    "- El modelo 2, para phonegap, identificó muy bien a xamarin como tecnología alternativa. Tambien sdk (termino muy relacionado  a mobile) y prototyping (uno de sus principales usos)\n",
    "- El modelo 2 para udemy capto mas plataformas educativas online que el modelo 1.\n",
    "- El modelo 1 para testing capta mejor ciertos procesos, etapas y actividades de la Ingenieria del Software, en cambio el modelo 2 capta mejor ciertas tecnologías o terminologías relacionadas a la palabra 'testing'\n",
    "\n",
    "Con el resto de los términos, ambos modelos capturan más o menos lo mismo."
   ]
  },
  {
   "cell_type": "code",
   "execution_count": null,
   "metadata": {},
   "outputs": [],
   "source": [
    "model1.wv.most_similar(positive=['json', 'python'], negative=['java'])"
   ]
  },
  {
   "cell_type": "code",
   "execution_count": null,
   "metadata": {},
   "outputs": [],
   "source": [
    "model1.wv.most_similar(positive=['vpn', 'python'], negative=['java'])"
   ]
  },
  {
   "cell_type": "code",
   "execution_count": null,
   "metadata": {},
   "outputs": [],
   "source": [
    "model1.most_similar('facebook', topn=10)"
   ]
  },
  {
   "cell_type": "code",
   "execution_count": null,
   "metadata": {},
   "outputs": [],
   "source": [
    "model1.wv.most_similar('udemy')"
   ]
  },
  {
   "cell_type": "code",
   "execution_count": null,
   "metadata": {},
   "outputs": [],
   "source": [
    "model1.wv.most_similar('testing')"
   ]
  },
  {
   "cell_type": "code",
   "execution_count": null,
   "metadata": {},
   "outputs": [],
   "source": [
    "model1.wv.most_similar('phonegap')"
   ]
  },
  {
   "cell_type": "markdown",
   "metadata": {},
   "source": [
    "### Palabra que no matchea en la lista\n",
    "El modelo 1 detecta bien, al igual que el modelo 2, aquellas palabras que no \"matchean con el resto\"."
   ]
  },
  {
   "cell_type": "code",
   "execution_count": null,
   "metadata": {},
   "outputs": [],
   "source": [
    "model1.wv.doesnt_match(['python', 'sql', 'javascript', 'java'])"
   ]
  },
  {
   "cell_type": "code",
   "execution_count": null,
   "metadata": {},
   "outputs": [],
   "source": [
    "model1.wv.doesnt_match(['python', 'vpn', 'javascript', 'java'])"
   ]
  },
  {
   "cell_type": "code",
   "execution_count": null,
   "metadata": {},
   "outputs": [],
   "source": [
    "model1.wv.doesnt_match(['beer', 'coffee', 'coding'])"
   ]
  },
  {
   "cell_type": "markdown",
   "metadata": {},
   "source": [
    "## SEGUNDO MODELO: (WINDOW = 4)"
   ]
  },
  {
   "cell_type": "code",
   "execution_count": null,
   "metadata": {},
   "outputs": [],
   "source": [
    "# Defino los parámetros del modelo\n",
    "model2 = gensim.models.Word2Vec(documents, size=100,\n",
    "                               window=4,\n",
    "                               min_count=1,\n",
    "                               workers=multiprocessing.cpu_count(), sg=1)"
   ]
  },
  {
   "cell_type": "code",
   "execution_count": null,
   "metadata": {},
   "outputs": [],
   "source": [
    "print('Model vocab size : ', len(model2.wv.vocab))"
   ]
  },
  {
   "cell_type": "markdown",
   "metadata": {},
   "source": [
    "### Similitud entre 2 palabras"
   ]
  },
  {
   "cell_type": "code",
   "execution_count": null,
   "metadata": {},
   "outputs": [],
   "source": [
    "model2.wv.similarity('django', 'flask')"
   ]
  },
  {
   "cell_type": "code",
   "execution_count": null,
   "metadata": {},
   "outputs": [],
   "source": [
    "model2.wv.similarity('scala', 'python')"
   ]
  },
  {
   "cell_type": "code",
   "execution_count": null,
   "metadata": {},
   "outputs": [],
   "source": [
    "model2.wv.similarity(\"csv\", \"json\")"
   ]
  },
  {
   "cell_type": "code",
   "execution_count": null,
   "metadata": {},
   "outputs": [],
   "source": [
    "model2.wv.similarity(\"phonegap\", 'mobile')"
   ]
  },
  {
   "cell_type": "code",
   "execution_count": null,
   "metadata": {},
   "outputs": [],
   "source": [
    "model2.wv.similarity(\"holden\", \"spark\")"
   ]
  },
  {
   "cell_type": "markdown",
   "metadata": {},
   "source": [
    "### Palabras mas similares"
   ]
  },
  {
   "cell_type": "code",
   "execution_count": null,
   "metadata": {},
   "outputs": [],
   "source": [
    "model2.wv.most_similar(positive=['json', 'python'], negative=['java'])"
   ]
  },
  {
   "cell_type": "code",
   "execution_count": null,
   "metadata": {},
   "outputs": [],
   "source": [
    "model2.wv.most_similar(positive=['vpn', 'python'], negative=['java'])"
   ]
  },
  {
   "cell_type": "code",
   "execution_count": null,
   "metadata": {},
   "outputs": [],
   "source": [
    "model2.most_similar('facebook', topn=10)"
   ]
  },
  {
   "cell_type": "code",
   "execution_count": null,
   "metadata": {},
   "outputs": [],
   "source": [
    "model2.wv.most_similar('udemy')"
   ]
  },
  {
   "cell_type": "code",
   "execution_count": null,
   "metadata": {},
   "outputs": [],
   "source": [
    "model2.wv.most_similar('testing')"
   ]
  },
  {
   "cell_type": "code",
   "execution_count": null,
   "metadata": {},
   "outputs": [],
   "source": [
    "model2.wv.most_similar('phonegap')"
   ]
  },
  {
   "cell_type": "markdown",
   "metadata": {},
   "source": [
    "### Palabra que no matchea en la lista\n",
    "El modelo 1 detecta bien, al igual que el modelo 2, aquellas palabras que no \"matchean con el resto\"."
   ]
  },
  {
   "cell_type": "code",
   "execution_count": null,
   "metadata": {},
   "outputs": [],
   "source": [
    "model2.wv.doesnt_match(['python', 'sql', 'javascript', 'java'])"
   ]
  },
  {
   "cell_type": "code",
   "execution_count": null,
   "metadata": {},
   "outputs": [],
   "source": [
    "model2.wv.doesnt_match(['python', 'vpn', 'javascript', 'java'])"
   ]
  },
  {
   "cell_type": "code",
   "execution_count": null,
   "metadata": {},
   "outputs": [],
   "source": [
    "model2.wv.doesnt_match(['beer', 'coffee', 'coding'])"
   ]
  },
  {
   "cell_type": "markdown",
   "metadata": {},
   "source": [
    "## Modalidad de entrega"
   ]
  },
  {
   "cell_type": "markdown",
   "metadata": {},
   "source": [
    "El taller puede ser resuelto en grupos de a lo sumo 3 integrantes.\n",
    "\n",
    "La resolución consiste en escribir una notebook que resuelva lo que la consigna pide.\n",
    "\n",
    "Se evaluará que el código entregado sea claro y legible.\n",
    "\n",
    "Si el código no corre, el taller no estará aprobado y deberá ser reentregado.\n",
    "\n",
    "La entrega debe hacerse a rgalvez@utdt.edu."
   ]
  }
 ],
 "metadata": {
  "kernelspec": {
   "display_name": "Python 3",
   "language": "python",
   "name": "python3"
  },
  "language_info": {
   "codemirror_mode": {
    "name": "ipython",
    "version": 3
   },
   "file_extension": ".py",
   "mimetype": "text/x-python",
   "name": "python",
   "nbconvert_exporter": "python",
   "pygments_lexer": "ipython3",
   "version": "3.6.4"
  }
 },
 "nbformat": 4,
 "nbformat_minor": 2
}
